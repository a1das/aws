{
 "cells": [
  {
   "cell_type": "code",
   "execution_count": 20,
   "id": "792b037d-3b76-41c4-b774-97d7b04becc0",
   "metadata": {},
   "outputs": [
    {
     "name": "stdout",
     "output_type": "stream",
     "text": [
      "Requirement already satisfied: openpyxl in /opt/conda/lib/python3.10/site-packages (3.1.2)\n",
      "Requirement already satisfied: et-xmlfile in /opt/conda/lib/python3.10/site-packages (from openpyxl) (1.1.0)\n"
     ]
    }
   ],
   "source": [
    "!pip install openpyxl"
   ]
  },
  {
   "cell_type": "code",
   "execution_count": 21,
   "id": "71eaca44-a744-4750-a5c5-1d012c18819f",
   "metadata": {},
   "outputs": [],
   "source": [
    "import requests\n",
    "import os\n",
    "import datetime\n",
    "import boto3\n",
    "import pandas as pd\n",
    "import numpy as np\n",
    "import sys"
   ]
  },
  {
   "cell_type": "code",
   "execution_count": 22,
   "id": "a6166033-7227-4792-9bdd-b1904687cee8",
   "metadata": {},
   "outputs": [],
   "source": [
    "DOWNLOAD_FILE = \"dai-asllvd-BU_glossing_with_variations_HS_information-extended-urls-RU.xlsx\"\n",
    "DOWNLOAD_DIR = \"data/raw/gloss2pose/\"\n",
    "URL = \"http://www.bu.edu/asllrp/\" + DOWNLOAD_FILE\n",
    "S3_BUCKET= \"genasl-avatar\"  #replacce with your bucket name\n",
    "S3_PATH=\"v2/data/metadata/video_metadata.csv\""
   ]
  },
  {
   "cell_type": "code",
   "execution_count": 23,
   "id": "a39e87be-7d87-4c9a-bb0c-d20db4a4698a",
   "metadata": {},
   "outputs": [],
   "source": [
    "def download_file(download_dir, download_filename, url):\n",
    "    os.makedirs(download_dir, exist_ok=True)\n",
    "\n",
    "    download_path = os.path.join(download_dir, download_filename)\n",
    "\n",
    "    response = requests.get(url)\n",
    "\n",
    "    with open(download_path, \"wb\") as file_obj:\n",
    "        file_obj.write(response.content)\n",
    "\n",
    "    return download_path"
   ]
  },
  {
   "cell_type": "code",
   "execution_count": 24,
   "id": "7f8f1d2c-dbd0-4c2f-88bc-1f2e65f5d79e",
   "metadata": {},
   "outputs": [],
   "source": [
    "def clean_asllvd_metadata(from_filepath, to_filepath):\n",
    "    \"\"\"\n",
    "    Writes asllvd excel file to a cleaned csv\n",
    "    \"\"\"\n",
    "    video_set = pd.read_excel(from_filepath)\n",
    "    video_set = video_set.replace(\"============\", np.nan)\n",
    "    video_set = video_set.replace(\"------------\", np.nan)\n",
    "    video_set = video_set.replace(\"-------------------------\", np.nan)\n",
    "    video_set = video_set.dropna(axis=0, subset=[\"Gloss Variant\", \"Session\", \"Scene\", \"Start\", \"End\"], how=\"all\")\n",
    "    new_video_set = video_set[[\"Main New Gloss.1\",\"Gloss Variant\", \"Consultant\", \"Session\", \"Scene\", \"Start\", \"End\"]]\n",
    "    new_video_set = new_video_set.sort_values(by=[\"Main New Gloss.1\",\"Gloss Variant\", \"Consultant\", \"Session\", \"Scene\", \"Start\", \"End\"])\n",
    "    # print(video_set)\n",
    "    # print(new_video_set)\n",
    "    new_video_set = new_video_set.reset_index().drop([\"index\"], axis=1)\n",
    "    new_video_set[\"id\"] = new_video_set.index\n",
    "    new_video_set[\"Scene\"] = new_video_set[\"Scene\"].astype(int)\n",
    "    new_video_set[\"Start\"] = new_video_set[\"Start\"].astype(int)\n",
    "    new_video_set[\"End\"] = new_video_set[\"End\"].astype(int)\n",
    "    new_video_set[\"session_scene\"] = new_video_set['Session'].apply(str)+\"-\"+new_video_set['Scene'].apply(str)\n",
    "    new_video_set[\"Scene\"].apply(lambda x: str(x))\n",
    "    new_video_set[\"session_scene_id\"] = (\n",
    "        new_video_set[\"session_scene\"]\n",
    "    ).astype(\"category\").cat.codes\n",
    "    new_video_set[\"is_corrupt\"] = 0\n",
    "    new_video_set[\"Main New Gloss\"]= new_video_set[\"Main New Gloss.1\"].astype(str)\n",
    "    new_video_set.to_csv(to_filepath, index=False)\n",
    "\n",
    "    return to_filepath"
   ]
  },
  {
   "cell_type": "code",
   "execution_count": 25,
   "id": "1fa92e20-7968-46fa-acf4-9898f7dbf4d6",
   "metadata": {},
   "outputs": [
    {
     "name": "stderr",
     "output_type": "stream",
     "text": [
      "/opt/conda/lib/python3.10/site-packages/openpyxl/worksheet/_reader.py:329: UserWarning: Unknown extension is not supported and will be removed\n",
      "  warn(msg)\n"
     ]
    },
    {
     "name": "stdout",
     "output_type": "stream",
     "text": [
      "Uploading video_metadata to v2/data/metadata/video_metadata.csv\n"
     ]
    },
    {
     "data": {
      "text/plain": [
       "{'ResponseMetadata': {'RequestId': 'BPT5DFDV80TC75S8',\n",
       "  'HostId': 'saGcQpwxRXpvcY1FWZGs+HoOykDKmHMWUG65Tu4ar5ZCKpIqDB0Y3OBSFu2CIw4Jn6wiTVVgJcE=',\n",
       "  'HTTPStatusCode': 200,\n",
       "  'HTTPHeaders': {'x-amz-id-2': 'saGcQpwxRXpvcY1FWZGs+HoOykDKmHMWUG65Tu4ar5ZCKpIqDB0Y3OBSFu2CIw4Jn6wiTVVgJcE=',\n",
       "   'x-amz-request-id': 'BPT5DFDV80TC75S8',\n",
       "   'date': 'Mon, 08 Apr 2024 03:33:46 GMT',\n",
       "   'x-amz-server-side-encryption': 'AES256',\n",
       "   'etag': '\"22da7d0d46745e50f32ce594e4793b5c\"',\n",
       "   'server': 'AmazonS3',\n",
       "   'content-length': '0'},\n",
       "  'RetryAttempts': 0},\n",
       " 'ETag': '\"22da7d0d46745e50f32ce594e4793b5c\"',\n",
       " 'ServerSideEncryption': 'AES256'}"
      ]
     },
     "execution_count": 25,
     "metadata": {},
     "output_type": "execute_result"
    }
   ],
   "source": [
    "csv_filepath = os.path.join(DOWNLOAD_DIR, \"video_metadata.csv\")\n",
    "filepath = download_file(DOWNLOAD_DIR, DOWNLOAD_FILE, URL)\n",
    "csv_filepath = clean_asllvd_metadata(filepath, csv_filepath)\n",
    "print(\"Uploading video_metadata to {}\".format(S3_PATH))\n",
    "\n",
    "s3 = boto3.resource(\"s3\")\n",
    "bucket = s3.Bucket(S3_BUCKET)\n",
    "\n",
    "# Upload video metadata and timestamp\n",
    "bucket.upload_file(csv_filepath, S3_PATH)\n",
    "timestamp = s3.Object(S3_BUCKET, S3_PATH + \".timestamp\")\n",
    "timestamp.put(Body=r\"{}\".format(datetime.datetime.now()))\n"
   ]
  },
  {
   "cell_type": "code",
   "execution_count": null,
   "id": "e75707d2-56d1-43f9-8ad2-145358d82fd7",
   "metadata": {},
   "outputs": [],
   "source": []
  }
 ],
 "metadata": {
  "kernelspec": {
   "display_name": "Python 3 (ipykernel)",
   "language": "python",
   "name": "python3"
  },
  "language_info": {
   "codemirror_mode": {
    "name": "ipython",
    "version": 3
   },
   "file_extension": ".py",
   "mimetype": "text/x-python",
   "name": "python",
   "nbconvert_exporter": "python",
   "pygments_lexer": "ipython3",
   "version": "3.10.13"
  }
 },
 "nbformat": 4,
 "nbformat_minor": 5
}
